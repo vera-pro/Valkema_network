{
 "cells": [
  {
   "cell_type": "code",
   "execution_count": 1,
   "metadata": {},
   "outputs": [],
   "source": [
    "# Loading the data"
   ]
  },
  {
   "cell_type": "code",
   "execution_count": 2,
   "metadata": {},
   "outputs": [],
   "source": [
    "import pandas as pd\n",
    "df_graph = pd.read_csv('df_graph_same_docs_as_manual.tsv',sep='\\t')"
   ]
  },
  {
   "cell_type": "code",
   "execution_count": 3,
   "metadata": {},
   "outputs": [
    {
     "data": {
      "text/html": [
       "<div>\n",
       "<style scoped>\n",
       "    .dataframe tbody tr th:only-of-type {\n",
       "        vertical-align: middle;\n",
       "    }\n",
       "\n",
       "    .dataframe tbody tr th {\n",
       "        vertical-align: top;\n",
       "    }\n",
       "\n",
       "    .dataframe thead th {\n",
       "        text-align: right;\n",
       "    }\n",
       "</style>\n",
       "<table border=\"1\" class=\"dataframe\">\n",
       "  <thead>\n",
       "    <tr style=\"text-align: right;\">\n",
       "      <th></th>\n",
       "      <th>person1</th>\n",
       "      <th>person2</th>\n",
       "      <th>document_ids</th>\n",
       "      <th>weight</th>\n",
       "      <th>wikidata_id1</th>\n",
       "      <th>wikidata_id2</th>\n",
       "      <th>wikidata_description1</th>\n",
       "      <th>wikidata_description2</th>\n",
       "      <th>main_country1</th>\n",
       "      <th>main_country2</th>\n",
       "    </tr>\n",
       "  </thead>\n",
       "  <tbody>\n",
       "    <tr>\n",
       "      <th>0</th>\n",
       "      <td>Harvey Littleton</td>\n",
       "      <td>Wilke Adolfsson</td>\n",
       "      <td>[1248922]</td>\n",
       "      <td>1</td>\n",
       "      <td>Q15488059</td>\n",
       "      <td>Q5543008</td>\n",
       "      <td>Artist, educator</td>\n",
       "      <td>Swedish artist</td>\n",
       "      <td>United States of America</td>\n",
       "      <td>Sweden</td>\n",
       "    </tr>\n",
       "    <tr>\n",
       "      <th>1</th>\n",
       "      <td>Durk Valkema</td>\n",
       "      <td>Harvey Littleton</td>\n",
       "      <td>[1248922, 1265626]</td>\n",
       "      <td>2</td>\n",
       "      <td>Q29422094</td>\n",
       "      <td>Q15488059</td>\n",
       "      <td>Dutch sculptor</td>\n",
       "      <td>Artist, educator</td>\n",
       "      <td>Kingdom of the Netherlands</td>\n",
       "      <td>United States of America</td>\n",
       "    </tr>\n",
       "    <tr>\n",
       "      <th>2</th>\n",
       "      <td>Harvey Littleton</td>\n",
       "      <td>Sybren Valkema</td>\n",
       "      <td>[1248922, 1266713, 1268564, 1268576, 1268586, ...</td>\n",
       "      <td>11</td>\n",
       "      <td>Q15488059</td>\n",
       "      <td>Q2618110</td>\n",
       "      <td>Artist, educator</td>\n",
       "      <td>Dutch glass artist (1916-1996)</td>\n",
       "      <td>United States of America</td>\n",
       "      <td>Kingdom of the Netherlands</td>\n",
       "    </tr>\n",
       "    <tr>\n",
       "      <th>3</th>\n",
       "      <td>Gary Beecham</td>\n",
       "      <td>Harvey Littleton</td>\n",
       "      <td>[1248922, 1290868]</td>\n",
       "      <td>2</td>\n",
       "      <td>Q5524683</td>\n",
       "      <td>Q15488059</td>\n",
       "      <td>American artist</td>\n",
       "      <td>Artist, educator</td>\n",
       "      <td>United States of America</td>\n",
       "      <td>United States of America</td>\n",
       "    </tr>\n",
       "    <tr>\n",
       "      <th>4</th>\n",
       "      <td>Durk Valkema</td>\n",
       "      <td>Wilke Adolfsson</td>\n",
       "      <td>[1248922, 1468401, 1266688]</td>\n",
       "      <td>3</td>\n",
       "      <td>Q29422094</td>\n",
       "      <td>Q5543008</td>\n",
       "      <td>Dutch sculptor</td>\n",
       "      <td>Swedish artist</td>\n",
       "      <td>Kingdom of the Netherlands</td>\n",
       "      <td>Sweden</td>\n",
       "    </tr>\n",
       "  </tbody>\n",
       "</table>\n",
       "</div>"
      ],
      "text/plain": [
       "            person1           person2  \\\n",
       "0  Harvey Littleton   Wilke Adolfsson   \n",
       "1      Durk Valkema  Harvey Littleton   \n",
       "2  Harvey Littleton    Sybren Valkema   \n",
       "3      Gary Beecham  Harvey Littleton   \n",
       "4      Durk Valkema   Wilke Adolfsson   \n",
       "\n",
       "                                        document_ids  weight wikidata_id1  \\\n",
       "0                                          [1248922]       1    Q15488059   \n",
       "1                                 [1248922, 1265626]       2    Q29422094   \n",
       "2  [1248922, 1266713, 1268564, 1268576, 1268586, ...      11    Q15488059   \n",
       "3                                 [1248922, 1290868]       2     Q5524683   \n",
       "4                        [1248922, 1468401, 1266688]       3    Q29422094   \n",
       "\n",
       "  wikidata_id2 wikidata_description1           wikidata_description2  \\\n",
       "0     Q5543008      Artist, educator                  Swedish artist   \n",
       "1    Q15488059        Dutch sculptor                Artist, educator   \n",
       "2     Q2618110      Artist, educator  Dutch glass artist (1916-1996)   \n",
       "3    Q15488059       American artist                Artist, educator   \n",
       "4     Q5543008        Dutch sculptor                  Swedish artist   \n",
       "\n",
       "                main_country1               main_country2  \n",
       "0    United States of America                      Sweden  \n",
       "1  Kingdom of the Netherlands    United States of America  \n",
       "2    United States of America  Kingdom of the Netherlands  \n",
       "3    United States of America    United States of America  \n",
       "4  Kingdom of the Netherlands                      Sweden  "
      ]
     },
     "execution_count": 3,
     "metadata": {},
     "output_type": "execute_result"
    }
   ],
   "source": [
    "df_graph.head()"
   ]
  },
  {
   "cell_type": "code",
   "execution_count": 4,
   "metadata": {},
   "outputs": [
    {
     "data": {
      "text/plain": [
       "{'Austria',\n",
       " 'Austria-Hungary',\n",
       " 'Belgium',\n",
       " 'Canada',\n",
       " 'Denmark',\n",
       " 'France',\n",
       " 'Germany',\n",
       " 'Italy',\n",
       " 'Japan',\n",
       " 'Kingdom of the Netherlands',\n",
       " 'Norway',\n",
       " 'Soviet Union',\n",
       " 'Sweden',\n",
       " 'Switzerland',\n",
       " 'United Kingdom',\n",
       " 'United States of America',\n",
       " nan}"
      ]
     },
     "execution_count": 4,
     "metadata": {},
     "output_type": "execute_result"
    }
   ],
   "source": [
    "all_countries = set(df_graph['main_country1'].tolist()+df_graph['main_country1'].tolist())\n",
    "all_countries"
   ]
  },
  {
   "cell_type": "code",
   "execution_count": 5,
   "metadata": {},
   "outputs": [
    {
     "data": {
      "application/vnd.jupyter.widget-view+json": {
       "model_id": "1ecb0239c79d49c0969dd74fd25229cb",
       "version_major": 2,
       "version_minor": 0
      },
      "text/plain": [
       "0it [00:00, ?it/s]"
      ]
     },
     "metadata": {},
     "output_type": "display_data"
    }
   ],
   "source": [
    "from tqdm.auto import tqdm\n",
    "country_by_person = {}\n",
    "for _,row in tqdm(df_graph.iterrows()):\n",
    "    country_by_person[row['person1']] =row['main_country1']\n",
    "    country_by_person[row['person2']] =row['main_country2']"
   ]
  },
  {
   "cell_type": "code",
   "execution_count": 6,
   "metadata": {},
   "outputs": [],
   "source": [
    "import pickle\n",
    "pickle.dump(country_by_person,open('country_per_person.p','wb'))"
   ]
  },
  {
   "cell_type": "code",
   "execution_count": 5,
   "metadata": {},
   "outputs": [],
   "source": [
    "colours = {'United States of America':'#1E90FF',#blue\n",
    "           'Kingdom of the Netherlands': '#FFA500',#orange\n",
    "          }\n",
    "\n",
    "def get_colour(person):\n",
    "    country = country_by_person[person] if person in country_by_person else ''\n",
    "    if country in colours:\n",
    "        return colours[country]\n",
    "    return '#9370DB' # purple\n"
   ]
  },
  {
   "cell_type": "code",
   "execution_count": 6,
   "metadata": {},
   "outputs": [],
   "source": [
    "import networkx as nx\n"
   ]
  },
  {
   "cell_type": "code",
   "execution_count": 8,
   "metadata": {},
   "outputs": [],
   "source": [
    "G = nx.Graph()\n",
    "for _,row in df_graph.iterrows():\n",
    "    G.add_edge(row['person1'],row['person2'],weight=row['weight'])"
   ]
  },
  {
   "cell_type": "code",
   "execution_count": null,
   "metadata": {},
   "outputs": [],
   "source": []
  },
  {
   "cell_type": "code",
   "execution_count": 25,
   "metadata": {},
   "outputs": [],
   "source": [
    "from pyvis.network import Network\n",
    "import numpy as np\n",
    "def prepare_network(G1):\n",
    "    # Remove components that are too small (for visualisation purposes)\n",
    "    for component in list(nx.connected_components(G1)):\n",
    "        if len(component)<3:\n",
    "            for node in component:\n",
    "                G1.remove_node(node)\n",
    "    # Calculate node degrees\n",
    "    node_degrees = dict(G1.degree())\n",
    "    \n",
    "    net = Network(notebook=True,cdn_resources='remote',bgcolor='#f5f5f5',height='800px',width='800px')\n",
    "    \n",
    "    # Define a scaling factor for font size (adjust as needed)\n",
    "    font_scale = 5\n",
    "    node_scale = 5#0\n",
    "\n",
    "    # Add nodes with sizes and font sizes proportional to their degrees\n",
    "    for node_id, degree in node_degrees.items():\n",
    "        node_size = np.log(degree)*node_scale#np.log2(degree) * node_scale # Scale node size (adjust as needed)\n",
    "        font_size = np.sqrt(degree)*font_scale#degree*font_scale#np.log(degree)*font_scale# * font_scale  # Scale font size\n",
    "        colour = get_colour(node_id)\n",
    "        net.add_node(node_id, size=node_size, label=str(node_id),color=colour,\n",
    "                     shape='dot',\n",
    "                     font={'size': font_size,'color': 'black'},#colour},\n",
    "                    labelHighlightBold=True)\n",
    "\n",
    "    # Add edges with weights\n",
    "    for u, v, data in G.edges(data=True):\n",
    "        weight = data['weight']  # Extract the weight of the edge\n",
    "        net.add_edge(u, v, value=weight,\n",
    "                     color='#d6ebc3')#average_hex_colors(get_colour(u),get_colour(v)))  # Use 'value' to set the edge weight in Pyvis\n",
    "        \n",
    "    # Configure physics for repulsion\n",
    "        \n",
    "    net.repulsion(\n",
    "        node_distance=300,    # Distance between nodes\n",
    "        central_gravity=5.55, # Strength of the central gravity\n",
    "        spring_length=150,    # Length of the springs\n",
    "        spring_strength=0.05, # Strength of the springs\n",
    "        damping=0.6#,          # Damping factor to stabilize the layout\n",
    "#         avoid_overlap=1\n",
    "    )\n",
    "\n",
    "    net.toggle_physics(True)\n",
    "    \n",
    "    return net"
   ]
  },
  {
   "cell_type": "code",
   "execution_count": 26,
   "metadata": {},
   "outputs": [
    {
     "name": "stdout",
     "output_type": "stream",
     "text": [
      "graph-wikidata-final-small.html\n"
     ]
    },
    {
     "data": {
      "text/html": [
       "\n",
       "        <iframe\n",
       "            width=\"800px\"\n",
       "            height=\"800px\"\n",
       "            src=\"graph-wikidata-final-small.html\"\n",
       "            frameborder=\"0\"\n",
       "            allowfullscreen\n",
       "        ></iframe>\n",
       "        "
      ],
      "text/plain": [
       "<IPython.lib.display.IFrame at 0x7f4a8ccccd50>"
      ]
     },
     "execution_count": 26,
     "metadata": {},
     "output_type": "execute_result"
    }
   ],
   "source": [
    "net = prepare_network(G)\n",
    "net.show_buttons(filter_=[\"physics\"])\n",
    "net.show('graph-wikidata-final-small.html')\n",
    "# net.write_graphml('valkema.graphml')\n"
   ]
  },
  {
   "cell_type": "code",
   "execution_count": null,
   "metadata": {},
   "outputs": [],
   "source": []
  },
  {
   "cell_type": "code",
   "execution_count": null,
   "metadata": {},
   "outputs": [],
   "source": []
  },
  {
   "cell_type": "code",
   "execution_count": null,
   "metadata": {},
   "outputs": [],
   "source": []
  },
  {
   "cell_type": "code",
   "execution_count": null,
   "metadata": {},
   "outputs": [],
   "source": []
  }
 ],
 "metadata": {
  "kernelspec": {
   "display_name": "tabi",
   "language": "python",
   "name": "tabi"
  },
  "language_info": {
   "codemirror_mode": {
    "name": "ipython",
    "version": 3
   },
   "file_extension": ".py",
   "mimetype": "text/x-python",
   "name": "python",
   "nbconvert_exporter": "python",
   "pygments_lexer": "ipython3",
   "version": "3.7.5"
  }
 },
 "nbformat": 4,
 "nbformat_minor": 4
}
