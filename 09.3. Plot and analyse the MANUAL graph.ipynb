{
 "cells": [
  {
   "cell_type": "code",
   "execution_count": 39,
   "metadata": {},
   "outputs": [],
   "source": [
    "# Loading the data"
   ]
  },
  {
   "cell_type": "code",
   "execution_count": 40,
   "metadata": {},
   "outputs": [],
   "source": [
    "import pandas as pd\n",
    "df_graph = pd.read_csv('/ivi/ilps/personal/vprovat/valkema_graph_directed_manual_FINAL.tsv',sep='\\t')"
   ]
  },
  {
   "cell_type": "code",
   "execution_count": 41,
   "metadata": {},
   "outputs": [
    {
     "data": {
      "text/html": [
       "<div>\n",
       "<style scoped>\n",
       "    .dataframe tbody tr th:only-of-type {\n",
       "        vertical-align: middle;\n",
       "    }\n",
       "\n",
       "    .dataframe tbody tr th {\n",
       "        vertical-align: top;\n",
       "    }\n",
       "\n",
       "    .dataframe thead th {\n",
       "        text-align: right;\n",
       "    }\n",
       "</style>\n",
       "<table border=\"1\" class=\"dataframe\">\n",
       "  <thead>\n",
       "    <tr style=\"text-align: right;\">\n",
       "      <th></th>\n",
       "      <th>person1</th>\n",
       "      <th>person2</th>\n",
       "      <th>document_ids</th>\n",
       "    </tr>\n",
       "  </thead>\n",
       "  <tbody>\n",
       "    <tr>\n",
       "      <th>0</th>\n",
       "      <td>J. (Han) Feenstra</td>\n",
       "      <td>Sybren Valkema</td>\n",
       "      <td>['1310445']</td>\n",
       "    </tr>\n",
       "    <tr>\n",
       "      <th>1</th>\n",
       "      <td>Jan Antonie de Melker</td>\n",
       "      <td>Sybren Valkema</td>\n",
       "      <td>['1262435', '1262439', '1262454']</td>\n",
       "    </tr>\n",
       "    <tr>\n",
       "      <th>2</th>\n",
       "      <td>A. Binter</td>\n",
       "      <td>Sybren Valkema</td>\n",
       "      <td>['1269270', '1269271', '1269272']</td>\n",
       "    </tr>\n",
       "    <tr>\n",
       "      <th>3</th>\n",
       "      <td>A. Binter</td>\n",
       "      <td>Veronique Valkema</td>\n",
       "      <td>['1269270', '1269271', '1269272']</td>\n",
       "    </tr>\n",
       "    <tr>\n",
       "      <th>4</th>\n",
       "      <td>A. Jansen</td>\n",
       "      <td>Sybren Valkema</td>\n",
       "      <td>['1459844', '1459845', '1459846', '1459847']</td>\n",
       "    </tr>\n",
       "  </tbody>\n",
       "</table>\n",
       "</div>"
      ],
      "text/plain": [
       "                  person1            person2  \\\n",
       "0      J. (Han) Feenstra      Sybren Valkema   \n",
       "1   Jan Antonie de Melker     Sybren Valkema   \n",
       "2               A. Binter     Sybren Valkema   \n",
       "3               A. Binter  Veronique Valkema   \n",
       "4               A. Jansen     Sybren Valkema   \n",
       "\n",
       "                                   document_ids  \n",
       "0                                   ['1310445']  \n",
       "1             ['1262435', '1262439', '1262454']  \n",
       "2             ['1269270', '1269271', '1269272']  \n",
       "3             ['1269270', '1269271', '1269272']  \n",
       "4  ['1459844', '1459845', '1459846', '1459847']  "
      ]
     },
     "execution_count": 41,
     "metadata": {},
     "output_type": "execute_result"
    }
   ],
   "source": [
    "df_graph.head()"
   ]
  },
  {
   "cell_type": "code",
   "execution_count": null,
   "metadata": {},
   "outputs": [],
   "source": []
  },
  {
   "cell_type": "code",
   "execution_count": 42,
   "metadata": {},
   "outputs": [],
   "source": [
    "df_graph['weight'] = df_graph['document_ids'].map(lambda x: len(eval(x)))"
   ]
  },
  {
   "cell_type": "code",
   "execution_count": 43,
   "metadata": {},
   "outputs": [
    {
     "data": {
      "text/plain": [
       "person1         195\n",
       "person2          36\n",
       "document_ids    230\n",
       "weight           23\n",
       "dtype: int64"
      ]
     },
     "execution_count": 43,
     "metadata": {},
     "output_type": "execute_result"
    }
   ],
   "source": [
    "df_graph.nunique()"
   ]
  },
  {
   "cell_type": "code",
   "execution_count": 56,
   "metadata": {},
   "outputs": [
    {
     "data": {
      "text/html": [
       "<div>\n",
       "<style scoped>\n",
       "    .dataframe tbody tr th:only-of-type {\n",
       "        vertical-align: middle;\n",
       "    }\n",
       "\n",
       "    .dataframe tbody tr th {\n",
       "        vertical-align: top;\n",
       "    }\n",
       "\n",
       "    .dataframe thead th {\n",
       "        text-align: right;\n",
       "    }\n",
       "</style>\n",
       "<table border=\"1\" class=\"dataframe\">\n",
       "  <thead>\n",
       "    <tr style=\"text-align: right;\">\n",
       "      <th></th>\n",
       "      <th>person1</th>\n",
       "      <th>person2</th>\n",
       "      <th>document_ids</th>\n",
       "      <th>weight</th>\n",
       "    </tr>\n",
       "  </thead>\n",
       "  <tbody>\n",
       "    <tr>\n",
       "      <th>0</th>\n",
       "      <td>J. (Han) Feenstra</td>\n",
       "      <td>Sybren Valkema</td>\n",
       "      <td>['1310445']</td>\n",
       "      <td>1</td>\n",
       "    </tr>\n",
       "    <tr>\n",
       "      <th>1</th>\n",
       "      <td>Jan Antonie de Melker</td>\n",
       "      <td>Sybren Valkema</td>\n",
       "      <td>['1262435', '1262439', '1262454']</td>\n",
       "      <td>3</td>\n",
       "    </tr>\n",
       "    <tr>\n",
       "      <th>2</th>\n",
       "      <td>A. Binter</td>\n",
       "      <td>Sybren Valkema</td>\n",
       "      <td>['1269270', '1269271', '1269272']</td>\n",
       "      <td>3</td>\n",
       "    </tr>\n",
       "    <tr>\n",
       "      <th>3</th>\n",
       "      <td>A. Binter</td>\n",
       "      <td>Veronique Valkema</td>\n",
       "      <td>['1269270', '1269271', '1269272']</td>\n",
       "      <td>3</td>\n",
       "    </tr>\n",
       "    <tr>\n",
       "      <th>4</th>\n",
       "      <td>A. Jansen</td>\n",
       "      <td>Sybren Valkema</td>\n",
       "      <td>['1459844', '1459845', '1459846', '1459847']</td>\n",
       "      <td>4</td>\n",
       "    </tr>\n",
       "    <tr>\n",
       "      <th>...</th>\n",
       "      <td>...</td>\n",
       "      <td>...</td>\n",
       "      <td>...</td>\n",
       "      <td>...</td>\n",
       "    </tr>\n",
       "    <tr>\n",
       "      <th>254</th>\n",
       "      <td>Sybren Valkema</td>\n",
       "      <td>sochar Rajko Georgiev Rajkov</td>\n",
       "      <td>['1453564', '1453571', '1453572', '1453573', '...</td>\n",
       "      <td>9</td>\n",
       "    </tr>\n",
       "    <tr>\n",
       "      <th>255</th>\n",
       "      <td>Sybren Valkema</td>\n",
       "      <td>students</td>\n",
       "      <td>['1269476', '1269477', '1269478']</td>\n",
       "      <td>3</td>\n",
       "    </tr>\n",
       "    <tr>\n",
       "      <th>256</th>\n",
       "      <td>Sybren Valkema</td>\n",
       "      <td>wy herman hart</td>\n",
       "      <td>['1297980']</td>\n",
       "      <td>1</td>\n",
       "    </tr>\n",
       "    <tr>\n",
       "      <th>257</th>\n",
       "      <td>Veronique Valkema</td>\n",
       "      <td>Zaharah Hughes</td>\n",
       "      <td>['1288898']</td>\n",
       "      <td>1</td>\n",
       "    </tr>\n",
       "    <tr>\n",
       "      <th>258</th>\n",
       "      <td>Veronique Valkema</td>\n",
       "      <td>sochar Rajko Georgiev Rajkov</td>\n",
       "      <td>['1453564', '1453571', '1453572', '1453573', '...</td>\n",
       "      <td>6</td>\n",
       "    </tr>\n",
       "  </tbody>\n",
       "</table>\n",
       "<p>259 rows × 4 columns</p>\n",
       "</div>"
      ],
      "text/plain": [
       "                    person1                       person2  \\\n",
       "0        J. (Han) Feenstra                 Sybren Valkema   \n",
       "1     Jan Antonie de Melker                Sybren Valkema   \n",
       "2                 A. Binter                Sybren Valkema   \n",
       "3                 A. Binter             Veronique Valkema   \n",
       "4                 A. Jansen                Sybren Valkema   \n",
       "..                      ...                           ...   \n",
       "254          Sybren Valkema  sochar Rajko Georgiev Rajkov   \n",
       "255          Sybren Valkema                      students   \n",
       "256          Sybren Valkema                wy herman hart   \n",
       "257       Veronique Valkema                Zaharah Hughes   \n",
       "258       Veronique Valkema  sochar Rajko Georgiev Rajkov   \n",
       "\n",
       "                                          document_ids  weight  \n",
       "0                                          ['1310445']       1  \n",
       "1                    ['1262435', '1262439', '1262454']       3  \n",
       "2                    ['1269270', '1269271', '1269272']       3  \n",
       "3                    ['1269270', '1269271', '1269272']       3  \n",
       "4         ['1459844', '1459845', '1459846', '1459847']       4  \n",
       "..                                                 ...     ...  \n",
       "254  ['1453564', '1453571', '1453572', '1453573', '...       9  \n",
       "255                  ['1269476', '1269477', '1269478']       3  \n",
       "256                                        ['1297980']       1  \n",
       "257                                        ['1288898']       1  \n",
       "258  ['1453564', '1453571', '1453572', '1453573', '...       6  \n",
       "\n",
       "[259 rows x 4 columns]"
      ]
     },
     "execution_count": 56,
     "metadata": {},
     "output_type": "execute_result"
    }
   ],
   "source": [
    "df_graph"
   ]
  },
  {
   "cell_type": "code",
   "execution_count": 45,
   "metadata": {},
   "outputs": [],
   "source": [
    "import pickle\n",
    "country_by_person = pickle.load(open('country_per_person.p','rb'))"
   ]
  },
  {
   "cell_type": "code",
   "execution_count": 46,
   "metadata": {},
   "outputs": [],
   "source": [
    "colours = {'United States of America':'#1E90FF',#blue\n",
    "           'Kingdom of the Netherlands': '#FFA500',#orange\n",
    "          }\n",
    "\n",
    "def get_colour(person):\n",
    "    country = country_by_person[person] if person in country_by_person else ''\n",
    "    if country in colours:\n",
    "        return colours[country]\n",
    "    return '#9370DB' # purple\n"
   ]
  },
  {
   "cell_type": "code",
   "execution_count": 47,
   "metadata": {},
   "outputs": [],
   "source": [
    "import networkx as nx\n"
   ]
  },
  {
   "cell_type": "code",
   "execution_count": 48,
   "metadata": {},
   "outputs": [],
   "source": [
    "G = nx.Graph()\n",
    "for _,row in df_graph.iterrows():\n",
    "    if row['weight'] > 1: # pruning smallest connections\n",
    "        G.add_edge(row['person1'],row['person2'],weight=row['weight'])"
   ]
  },
  {
   "cell_type": "code",
   "execution_count": null,
   "metadata": {},
   "outputs": [],
   "source": []
  },
  {
   "cell_type": "code",
   "execution_count": 54,
   "metadata": {},
   "outputs": [],
   "source": [
    "from pyvis.network import Network\n",
    "import numpy as np\n",
    "def prepare_network(G1):\n",
    "    # Remove components that are too small (for visualisation purposes)\n",
    "    for component in list(nx.connected_components(G1)):\n",
    "        if len(component)<3:\n",
    "            for node in component:\n",
    "                G1.remove_node(node)\n",
    "    # Calculate node degrees\n",
    "    node_degrees = dict(G1.degree())\n",
    "    \n",
    "    net = Network(notebook=True,cdn_resources='remote',bgcolor='#f5f5f5',height='600px',width='600px')\n",
    "    \n",
    "    # Define a scaling factor for font size (adjust as needed)\n",
    "    font_scale = 15\n",
    "    node_scale = 10#0\n",
    "\n",
    "    # Add nodes with sizes and font sizes proportional to their degrees\n",
    "    for node_id, degree in node_degrees.items():\n",
    "        node_size = np.log(degree*node_scale)#np.log2(degree) * node_scale # Scale node size (adjust as needed)\n",
    "        font_size = min(2*np.sqrt(degree*font_scale),\n",
    "                        20)\n",
    "                        #degree*font_scale#np.log(degree)*font_scale# * font_scale  # Scale font size\n",
    "        colour = get_colour(node_id)\n",
    "        net.add_node(node_id, size=node_size, label=str(node_id),color=colour,\n",
    "                     shape='dot',\n",
    "                     font={'size': font_size,'color': 'black'},#colour},\n",
    "                    labelHighlightBold=True)\n",
    "\n",
    "    # Add edges with weights\n",
    "    for u, v, data in G.edges(data=True):\n",
    "        weight = data['weight']  # Extract the weight of the edge\n",
    "        net.add_edge(u, v, value=weight,\n",
    "                     color='#d6ebc3')#average_hex_colors(get_colour(u),get_colour(v)))  # Use 'value' to set the edge weight in Pyvis\n",
    "        \n",
    "    # Configure physics for repulsion\n",
    "        \n",
    "    net.repulsion(\n",
    "        node_distance=200,    # Distance between nodes\n",
    "        central_gravity=7.55, # Strength of the central gravity\n",
    "        spring_length=100,    # Length of the springs\n",
    "        spring_strength=0.05, # Strength of the springs\n",
    "        damping=0.6#,          # Damping factor to stabilize the layout\n",
    "#         avoid_overlap=1\n",
    "    )\n",
    "\n",
    "    net.toggle_physics(True)\n",
    "    \n",
    "    return net"
   ]
  },
  {
   "cell_type": "code",
   "execution_count": 55,
   "metadata": {},
   "outputs": [
    {
     "name": "stdout",
     "output_type": "stream",
     "text": [
      "graph-manual-final.html\n"
     ]
    },
    {
     "data": {
      "text/html": [
       "\n",
       "        <iframe\n",
       "            width=\"600px\"\n",
       "            height=\"600px\"\n",
       "            src=\"graph-manual-final.html\"\n",
       "            frameborder=\"0\"\n",
       "            allowfullscreen\n",
       "        ></iframe>\n",
       "        "
      ],
      "text/plain": [
       "<IPython.lib.display.IFrame at 0x7fece9b978d0>"
      ]
     },
     "execution_count": 55,
     "metadata": {},
     "output_type": "execute_result"
    }
   ],
   "source": [
    "net = prepare_network(G)\n",
    "net.show_buttons(filter_=[\"physics\"])\n",
    "net.show('graph-manual-final.html')\n",
    "# net.write_graphml('valkema.graphml')\n"
   ]
  },
  {
   "cell_type": "code",
   "execution_count": null,
   "metadata": {},
   "outputs": [],
   "source": []
  },
  {
   "cell_type": "code",
   "execution_count": null,
   "metadata": {},
   "outputs": [],
   "source": []
  },
  {
   "cell_type": "code",
   "execution_count": null,
   "metadata": {},
   "outputs": [],
   "source": []
  },
  {
   "cell_type": "code",
   "execution_count": null,
   "metadata": {},
   "outputs": [],
   "source": []
  }
 ],
 "metadata": {
  "kernelspec": {
   "display_name": "tabi",
   "language": "python",
   "name": "tabi"
  },
  "language_info": {
   "codemirror_mode": {
    "name": "ipython",
    "version": 3
   },
   "file_extension": ".py",
   "mimetype": "text/x-python",
   "name": "python",
   "nbconvert_exporter": "python",
   "pygments_lexer": "ipython3",
   "version": "3.7.5"
  }
 },
 "nbformat": 4,
 "nbformat_minor": 4
}
