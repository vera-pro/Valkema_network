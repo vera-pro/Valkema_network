{
 "cells": [
  {
   "cell_type": "code",
   "execution_count": 1,
   "metadata": {},
   "outputs": [],
   "source": [
    "# Loading the data"
   ]
  },
  {
   "cell_type": "code",
   "execution_count": 2,
   "metadata": {},
   "outputs": [],
   "source": [
    "import pandas as pd\n",
    "df_graph = pd.read_csv('df_graph_with_wikidata.tsv',sep='\\t')"
   ]
  },
  {
   "cell_type": "code",
   "execution_count": 3,
   "metadata": {},
   "outputs": [
    {
     "data": {
      "text/html": [
       "<div>\n",
       "<style scoped>\n",
       "    .dataframe tbody tr th:only-of-type {\n",
       "        vertical-align: middle;\n",
       "    }\n",
       "\n",
       "    .dataframe tbody tr th {\n",
       "        vertical-align: top;\n",
       "    }\n",
       "\n",
       "    .dataframe thead th {\n",
       "        text-align: right;\n",
       "    }\n",
       "</style>\n",
       "<table border=\"1\" class=\"dataframe\">\n",
       "  <thead>\n",
       "    <tr style=\"text-align: right;\">\n",
       "      <th></th>\n",
       "      <th>person1</th>\n",
       "      <th>person2</th>\n",
       "      <th>document_ids</th>\n",
       "      <th>wikidata_id1</th>\n",
       "      <th>wikidata_description1</th>\n",
       "      <th>wikidata_id2</th>\n",
       "      <th>wikidata_description2</th>\n",
       "      <th>weight</th>\n",
       "      <th>countries1</th>\n",
       "      <th>countries2</th>\n",
       "      <th>main_country1</th>\n",
       "      <th>main_country2</th>\n",
       "    </tr>\n",
       "  </thead>\n",
       "  <tbody>\n",
       "    <tr>\n",
       "      <th>0</th>\n",
       "      <td>Sybren Valkema</td>\n",
       "      <td>Wim Crouwel</td>\n",
       "      <td>['0001246763-0001246764-0001246765-0001246766-...</td>\n",
       "      <td>Q2618110</td>\n",
       "      <td>Dutch glass artist (1916-1996)</td>\n",
       "      <td>Q555389</td>\n",
       "      <td>Dutch graphic designer, type designer, and typ...</td>\n",
       "      <td>4</td>\n",
       "      <td>['Kingdom of the Netherlands']</td>\n",
       "      <td>['Kingdom of the Netherlands']</td>\n",
       "      <td>Kingdom of the Netherlands</td>\n",
       "      <td>Kingdom of the Netherlands</td>\n",
       "    </tr>\n",
       "    <tr>\n",
       "      <th>1</th>\n",
       "      <td>Bert Haanstra</td>\n",
       "      <td>Sybren Valkema</td>\n",
       "      <td>['0001246763-0001246764-0001246765-0001246766-...</td>\n",
       "      <td>Q827371</td>\n",
       "      <td>Dutch film director (1916-1997)</td>\n",
       "      <td>Q2618110</td>\n",
       "      <td>Dutch glass artist (1916-1996)</td>\n",
       "      <td>10</td>\n",
       "      <td>['Kingdom of the Netherlands']</td>\n",
       "      <td>['Kingdom of the Netherlands']</td>\n",
       "      <td>Kingdom of the Netherlands</td>\n",
       "      <td>Kingdom of the Netherlands</td>\n",
       "    </tr>\n",
       "    <tr>\n",
       "      <th>2</th>\n",
       "      <td>Jane Bruce</td>\n",
       "      <td>Sybren Valkema</td>\n",
       "      <td>['0001246763-0001246764-0001246765-0001246766-...</td>\n",
       "      <td>Q16031419</td>\n",
       "      <td>Canadian teacher</td>\n",
       "      <td>Q2618110</td>\n",
       "      <td>Dutch glass artist (1916-1996)</td>\n",
       "      <td>18</td>\n",
       "      <td>[]</td>\n",
       "      <td>['Kingdom of the Netherlands']</td>\n",
       "      <td>NaN</td>\n",
       "      <td>Kingdom of the Netherlands</td>\n",
       "    </tr>\n",
       "    <tr>\n",
       "      <th>3</th>\n",
       "      <td>Frits Gramberg</td>\n",
       "      <td>Sybren Valkema</td>\n",
       "      <td>['0001246763-0001246764-0001246765-0001246766-...</td>\n",
       "      <td>Q42429178</td>\n",
       "      <td>Description not found.</td>\n",
       "      <td>Q2618110</td>\n",
       "      <td>Dutch glass artist (1916-1996)</td>\n",
       "      <td>19</td>\n",
       "      <td>['Kingdom of the Netherlands']</td>\n",
       "      <td>['Kingdom of the Netherlands']</td>\n",
       "      <td>Kingdom of the Netherlands</td>\n",
       "      <td>Kingdom of the Netherlands</td>\n",
       "    </tr>\n",
       "    <tr>\n",
       "      <th>4</th>\n",
       "      <td>Bert Haanstra</td>\n",
       "      <td>Wim Crouwel</td>\n",
       "      <td>['0001246763-0001246764-0001246765-0001246766-...</td>\n",
       "      <td>Q827371</td>\n",
       "      <td>Dutch film director (1916-1997)</td>\n",
       "      <td>Q555389</td>\n",
       "      <td>Dutch graphic designer, type designer, and typ...</td>\n",
       "      <td>1</td>\n",
       "      <td>['Kingdom of the Netherlands']</td>\n",
       "      <td>['Kingdom of the Netherlands']</td>\n",
       "      <td>Kingdom of the Netherlands</td>\n",
       "      <td>Kingdom of the Netherlands</td>\n",
       "    </tr>\n",
       "  </tbody>\n",
       "</table>\n",
       "</div>"
      ],
      "text/plain": [
       "          person1         person2  \\\n",
       "0  Sybren Valkema     Wim Crouwel   \n",
       "1   Bert Haanstra  Sybren Valkema   \n",
       "2      Jane Bruce  Sybren Valkema   \n",
       "3  Frits Gramberg  Sybren Valkema   \n",
       "4   Bert Haanstra     Wim Crouwel   \n",
       "\n",
       "                                        document_ids wikidata_id1  \\\n",
       "0  ['0001246763-0001246764-0001246765-0001246766-...     Q2618110   \n",
       "1  ['0001246763-0001246764-0001246765-0001246766-...      Q827371   \n",
       "2  ['0001246763-0001246764-0001246765-0001246766-...    Q16031419   \n",
       "3  ['0001246763-0001246764-0001246765-0001246766-...    Q42429178   \n",
       "4  ['0001246763-0001246764-0001246765-0001246766-...      Q827371   \n",
       "\n",
       "             wikidata_description1 wikidata_id2  \\\n",
       "0   Dutch glass artist (1916-1996)      Q555389   \n",
       "1  Dutch film director (1916-1997)     Q2618110   \n",
       "2                 Canadian teacher     Q2618110   \n",
       "3           Description not found.     Q2618110   \n",
       "4  Dutch film director (1916-1997)      Q555389   \n",
       "\n",
       "                               wikidata_description2  weight  \\\n",
       "0  Dutch graphic designer, type designer, and typ...       4   \n",
       "1                     Dutch glass artist (1916-1996)      10   \n",
       "2                     Dutch glass artist (1916-1996)      18   \n",
       "3                     Dutch glass artist (1916-1996)      19   \n",
       "4  Dutch graphic designer, type designer, and typ...       1   \n",
       "\n",
       "                       countries1                      countries2  \\\n",
       "0  ['Kingdom of the Netherlands']  ['Kingdom of the Netherlands']   \n",
       "1  ['Kingdom of the Netherlands']  ['Kingdom of the Netherlands']   \n",
       "2                              []  ['Kingdom of the Netherlands']   \n",
       "3  ['Kingdom of the Netherlands']  ['Kingdom of the Netherlands']   \n",
       "4  ['Kingdom of the Netherlands']  ['Kingdom of the Netherlands']   \n",
       "\n",
       "                main_country1               main_country2  \n",
       "0  Kingdom of the Netherlands  Kingdom of the Netherlands  \n",
       "1  Kingdom of the Netherlands  Kingdom of the Netherlands  \n",
       "2                         NaN  Kingdom of the Netherlands  \n",
       "3  Kingdom of the Netherlands  Kingdom of the Netherlands  \n",
       "4  Kingdom of the Netherlands  Kingdom of the Netherlands  "
      ]
     },
     "execution_count": 3,
     "metadata": {},
     "output_type": "execute_result"
    }
   ],
   "source": [
    "df_graph.head()"
   ]
  },
  {
   "cell_type": "code",
   "execution_count": 4,
   "metadata": {},
   "outputs": [
    {
     "name": "stderr",
     "output_type": "stream",
     "text": [
      "UsageError: Line magic function `%` not found.\n"
     ]
    }
   ],
   "source": [
    "%\n",
    "# Initialising weights\n",
    "\n",
    "df_graph['weight'] = df_graph['document_ids'].map(lambda x: len(eval(x)))\n",
    "df_graph.head()"
   ]
  },
  {
   "cell_type": "code",
   "execution_count": 5,
   "metadata": {},
   "outputs": [
    {
     "name": "stderr",
     "output_type": "stream",
     "text": [
      "UsageError: Line magic function `%` not found.\n"
     ]
    }
   ],
   "source": [
    "%\n",
    "# Let's paint Americans one colour and Europeans another\n",
    "\n",
    "\n",
    "import requests\n",
    "from functools import lru_cache\n",
    "\n",
    "@lru_cache(maxsize=1024)\n",
    "def get_country_of_citizenship(entity_id):\n",
    "    \"\"\"\n",
    "    Fetch the country of citizenship for a given Wikidata entity.\n",
    "\n",
    "    Args:\n",
    "    entity_id (str): The Wikidata entity ID (e.g., \"Q42\" for Douglas Adams).\n",
    "\n",
    "    Returns:\n",
    "    list: A list of country names for the entity's citizenship.\n",
    "    \"\"\"\n",
    "    url = f\"https://www.wikidata.org/w/api.php\"\n",
    "    params = {\n",
    "        \"action\": \"wbgetentities\",\n",
    "        \"ids\": entity_id,\n",
    "        \"props\": \"claims\",\n",
    "        \"format\": \"json\"\n",
    "    }\n",
    "    \n",
    "    response = requests.get(url, params=params)\n",
    "    data = response.json()\n",
    "    \n",
    "    countries = []\n",
    "    \n",
    "    # Extract the claims related to country of citizenship (P27)\n",
    "    claims = data.get('entities', {}).get(entity_id, {}).get('claims', {})\n",
    "    citizenship_claims = claims.get('P27', [])\n",
    "    \n",
    "    for claim in citizenship_claims:\n",
    "        country_id = claim.get('mainsnak', {}).get('datavalue', {}).get('value', {}).get('id')\n",
    "        if country_id:\n",
    "            country_name = get_country_label(country_id)\n",
    "            countries.append(country_name)\n",
    "    \n",
    "    return countries\n",
    "\n",
    "@lru_cache(maxsize=128)\n",
    "def get_country_label(country_id):\n",
    "    \"\"\"\n",
    "    Fetch the label of a Wikidata entity given its ID.\n",
    "\n",
    "    Args:\n",
    "    country_id (str): The Wikidata country ID (e.g., \"Q30\" for the United States).\n",
    "\n",
    "    Returns:\n",
    "    str: The label (name) of the country.\n",
    "    \"\"\"\n",
    "    url = f\"https://www.wikidata.org/w/api.php\"\n",
    "    params = {\n",
    "        \"action\": \"wbgetentities\",\n",
    "        \"ids\": country_id,\n",
    "        \"props\": \"labels\",\n",
    "        \"languages\": \"en\",\n",
    "        \"format\": \"json\"\n",
    "    }\n",
    "    \n",
    "    response = requests.get(url, params=params)\n",
    "    data = response.json()\n",
    "    \n",
    "    label = data.get('entities', {}).get(country_id, {}).get('labels', {}).get('en', {}).get('value', '')\n",
    "    return label\n",
    "\n",
    "# Example usage\n",
    "entity_id = \"Q42\"  # Wikidata ID for Douglas Adams\n",
    "countries = get_country_of_citizenship(entity_id)\n",
    "print(f\"Countries of citizenship for entity {entity_id}: {countries}\")\n"
   ]
  },
  {
   "cell_type": "code",
   "execution_count": 6,
   "metadata": {},
   "outputs": [
    {
     "name": "stderr",
     "output_type": "stream",
     "text": [
      "UsageError: Line magic function `%` not found.\n"
     ]
    }
   ],
   "source": [
    "%\n",
    "from tqdm.auto import tqdm\n",
    "tqdm.pandas()\n",
    "df_graph['countries1'] = df_graph['wikidata_id1'].progress_map(lambda x: get_country_of_citizenship(x))\n",
    "df_graph['countries2'] = df_graph['wikidata_id2'].progress_map(lambda x: get_country_of_citizenship(x))\n",
    "\n",
    "df_graph['main_country1'] = df_graph['countries1'].map(lambda x: x[0] if x else '')\n",
    "df_graph['main_country2'] = df_graph['countries2'].map(lambda x: x[0] if x else '')\n",
    "\n",
    "df_graph.to_csv('df_graph_with_wikidata.tsv',sep='\\t',index=False)\n",
    "df_graph.head()"
   ]
  },
  {
   "cell_type": "code",
   "execution_count": 7,
   "metadata": {},
   "outputs": [
    {
     "data": {
      "text/plain": [
       "{'Australia',\n",
       " 'Austria',\n",
       " 'Austria-Hungary',\n",
       " 'Belgium',\n",
       " 'Brazil',\n",
       " 'Canada',\n",
       " 'Cisleithania',\n",
       " 'Czech Republic',\n",
       " 'Czechoslovakia',\n",
       " 'Denmark',\n",
       " 'Dutch East Indies',\n",
       " 'Dutch Republic',\n",
       " 'England',\n",
       " 'Finland',\n",
       " 'France',\n",
       " 'German Democratic Republic',\n",
       " 'German Empire',\n",
       " 'German Reich',\n",
       " 'Germany',\n",
       " 'Indonesia',\n",
       " 'Israel',\n",
       " 'Italy',\n",
       " 'Jamaica',\n",
       " 'Japan',\n",
       " 'Kingdom of Denmark',\n",
       " 'Kingdom of Italy',\n",
       " 'Kingdom of the Netherlands',\n",
       " 'Lithuania',\n",
       " 'Luxembourg',\n",
       " 'Monaco',\n",
       " 'Netherlands',\n",
       " 'New Zealand',\n",
       " 'Norway',\n",
       " 'Poland',\n",
       " 'Portugal',\n",
       " 'Republic of Ireland',\n",
       " 'Slovakia',\n",
       " 'South Africa',\n",
       " 'Soviet Union',\n",
       " 'Spain',\n",
       " 'Sweden',\n",
       " 'Switzerland',\n",
       " 'United Kingdom',\n",
       " 'United Kingdom of Great Britain and Ireland',\n",
       " 'United States of America',\n",
       " 'Uruguay',\n",
       " nan}"
      ]
     },
     "execution_count": 7,
     "metadata": {},
     "output_type": "execute_result"
    }
   ],
   "source": [
    "all_countries = set(df_graph['main_country1'].tolist()+df_graph['main_country1'].tolist())\n",
    "all_countries"
   ]
  },
  {
   "cell_type": "code",
   "execution_count": 8,
   "metadata": {},
   "outputs": [
    {
     "data": {
      "application/vnd.jupyter.widget-view+json": {
       "model_id": "e65ffea4c47140c69d53da0fe6bd55ad",
       "version_major": 2,
       "version_minor": 0
      },
      "text/plain": [
       "0it [00:00, ?it/s]"
      ]
     },
     "metadata": {},
     "output_type": "display_data"
    }
   ],
   "source": [
    "from tqdm.auto import tqdm\n",
    "country_by_person = {}\n",
    "for _,row in tqdm(df_graph.iterrows()):\n",
    "    country_by_person[row['person1']] =row['main_country1']\n",
    "    country_by_person[row['person2']] =row['main_country2']"
   ]
  },
  {
   "cell_type": "code",
   "execution_count": 9,
   "metadata": {},
   "outputs": [],
   "source": [
    "import pickle\n",
    "pickle.dump(country_by_person,open('country_per_person.p','wb'))"
   ]
  },
  {
   "cell_type": "code",
   "execution_count": null,
   "metadata": {},
   "outputs": [],
   "source": [
    "# Downsample the graph to deal with computational limitations: only keep the edges that are heavy enough"
   ]
  },
  {
   "cell_type": "code",
   "execution_count": null,
   "metadata": {},
   "outputs": [],
   "source": [
    "df_graph_common = df_graph[df_graph['weight']>=10]"
   ]
  },
  {
   "cell_type": "code",
   "execution_count": null,
   "metadata": {},
   "outputs": [],
   "source": [
    "df_graph_common"
   ]
  },
  {
   "cell_type": "code",
   "execution_count": null,
   "metadata": {},
   "outputs": [],
   "source": [
    "colours = {'United States of America':'#1E90FF',#blue\n",
    "           'Kingdom of the Netherlands': '#FFA500',#orange\n",
    "          }\n",
    "\n",
    "def get_colour(person):\n",
    "    country = country_by_person[person] if person in country_by_person else ''\n",
    "    if country in colours:\n",
    "        return colours[country]\n",
    "    return '#9370DB' # purple\n",
    "\n",
    "\n",
    "# def hex_to_rgb(hex_color):\n",
    "#     \"\"\"Convert hex color to RGB tuple.\"\"\"\n",
    "#     hex_color = hex_color.lstrip('#')  # Remove the leading '#' if present\n",
    "#     return tuple(int(hex_color[i:i+2], 16) for i in (0, 2, 4))\n",
    "\n",
    "# def rgb_to_hex(rgb_color):\n",
    "#     \"\"\"Convert RGB tuple to hex color.\"\"\"\n",
    "#     return '#{:02x}{:02x}{:02x}'.format(rgb_color[0], rgb_color[1], rgb_color[2])\n",
    "\n",
    "# def average_hex_colors(hex_color1, hex_color2):\n",
    "#     \"\"\"Average two hex colors and return the resulting hex color.\"\"\"\n",
    "#     # Convert hex to RGB\n",
    "#     rgb1 = hex_to_rgb(hex_color1)\n",
    "#     rgb2 = hex_to_rgb(hex_color2)\n",
    "    \n",
    "#     # Calculate the average of each RGB component\n",
    "#     avg_rgb = tuple((int((comp1 + comp2) / 2)) for comp1, comp2 in zip(rgb1, rgb2))\n",
    "    \n",
    "#     # Convert the averaged RGB back to hex\n",
    "#     return rgb_to_hex(avg_rgb)"
   ]
  },
  {
   "cell_type": "code",
   "execution_count": null,
   "metadata": {},
   "outputs": [],
   "source": [
    "import networkx as nx\n"
   ]
  },
  {
   "cell_type": "code",
   "execution_count": null,
   "metadata": {},
   "outputs": [],
   "source": [
    "G = nx.Graph()\n",
    "cnt = 0\n",
    "for _,row in df_graph_common.iterrows():\n",
    "    cnt += 1\n",
    "    G.add_edge(row['person1'],row['person2'],weight=row['weight']/20)\n",
    "#     if cnt == 350:\n",
    "#         break"
   ]
  },
  {
   "cell_type": "code",
   "execution_count": null,
   "metadata": {},
   "outputs": [],
   "source": []
  },
  {
   "cell_type": "code",
   "execution_count": null,
   "metadata": {},
   "outputs": [],
   "source": [
    "from pyvis.network import Network\n",
    "import numpy as np\n",
    "def prepare_network(G1):\n",
    "    # Remove components that are too small (for visualisation purposes)\n",
    "    for component in list(nx.connected_components(G1)):\n",
    "        if len(component)<3:\n",
    "            for node in component:\n",
    "                G1.remove_node(node)\n",
    "    # Calculate node degrees\n",
    "    node_degrees = dict(G1.degree())\n",
    "    \n",
    "    net = Network(notebook=True,cdn_resources='remote',bgcolor='#f5f5f5',height='5500px',width='5500px')\n",
    "    \n",
    "    # Define a scaling factor for font size (adjust as needed)\n",
    "    font_scale = 5\n",
    "    node_scale = 5#0\n",
    "\n",
    "    # Add nodes with sizes and font sizes proportional to their degrees\n",
    "    for node_id, degree in node_degrees.items():\n",
    "        node_size = np.log(degree)*node_scale#np.log2(degree) * node_scale # Scale node size (adjust as needed)\n",
    "        font_size = np.sqrt(degree)*font_scale#degree*font_scale#np.log(degree)*font_scale# * font_scale  # Scale font size\n",
    "        colour = get_colour(node_id)\n",
    "        net.add_node(node_id, size=node_size, label=str(node_id),color=colour,\n",
    "                     shape='dot',\n",
    "                     font={'size': font_size,'color': 'black'},#colour},\n",
    "                    labelHighlightBold=True)\n",
    "\n",
    "    # Add edges with weights\n",
    "    for u, v, data in G.edges(data=True):\n",
    "        weight = data['weight']  # Extract the weight of the edge\n",
    "        net.add_edge(u, v, value=weight,\n",
    "                     color='#d6ebc3')#average_hex_colors(get_colour(u),get_colour(v)))  # Use 'value' to set the edge weight in Pyvis\n",
    "        \n",
    "    # Configure physics for repulsion\n",
    "#     net.hrepulsion(\n",
    "#         node_distance=350,    # Distance between nodes\n",
    "#         central_gravity=3.5, # Strength of the central gravity\n",
    "#         spring_length=100,    # Length of the springs\n",
    "#         spring_strength=0.035, # Strength of the springs\n",
    "#         damping=0.6#,          # Damping factor to stabilize the layout\n",
    "# #         -=1\n",
    "#     )\n",
    "#     net.force_atlas_2based(gravity= -950,central_gravity = 0,overlap = 1)\n",
    "        \n",
    "    net.repulsion(\n",
    "        node_distance=450,    # Distance between nodes\n",
    "        central_gravity=0.05, # Strength of the central gravity\n",
    "        spring_length=350,    # Length of the springs\n",
    "        spring_strength=0.05, # Strength of the springs\n",
    "        damping=0.6#,          # Damping factor to stabilize the layout\n",
    "#         avoid_overlap=1\n",
    "    )\n",
    "\n",
    "    net.toggle_physics(True)\n",
    "#     net.set_options(options)\n",
    "\n",
    "#     net.from_nx(G1)\n",
    "    \n",
    "    return net"
   ]
  },
  {
   "cell_type": "code",
   "execution_count": null,
   "metadata": {},
   "outputs": [],
   "source": [
    "net = prepare_network(G)\n",
    "# net.repulsion()\n",
    "net.show_buttons(filter_=[\"physics\"])#,\"autoResize\",\"layout\"])\n",
    "net.show('graph-wikidata-final-big.html')\n",
    "# net.write_graphml('valkema.graphml')\n"
   ]
  },
  {
   "cell_type": "code",
   "execution_count": null,
   "metadata": {},
   "outputs": [],
   "source": [
    "#  net.hierarchical_repulsion(\n",
    "#         node_distance=750,    # Distance between nodes\n",
    "#         central_gravity=0.05, # Strength of the central gravity\n",
    "#         spring_length=150,    # Length of the springs\n",
    "#         spring_strength=0.05, # Strength of the springs\n",
    "#         damping=0.6,          # Damping factor to stabilize the layout\n",
    "#         avoid_overlap=1\n",
    "#     )"
   ]
  },
  {
   "cell_type": "code",
   "execution_count": null,
   "metadata": {},
   "outputs": [],
   "source": []
  }
 ],
 "metadata": {
  "kernelspec": {
   "display_name": "tabi",
   "language": "python",
   "name": "tabi"
  },
  "language_info": {
   "codemirror_mode": {
    "name": "ipython",
    "version": 3
   },
   "file_extension": ".py",
   "mimetype": "text/x-python",
   "name": "python",
   "nbconvert_exporter": "python",
   "pygments_lexer": "ipython3",
   "version": "3.7.5"
  }
 },
 "nbformat": 4,
 "nbformat_minor": 4
}
